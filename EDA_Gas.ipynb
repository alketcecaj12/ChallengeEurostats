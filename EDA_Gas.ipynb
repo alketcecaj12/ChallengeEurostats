{
 "cells": [
  {
   "cell_type": "code",
   "execution_count": 14,
   "id": "dbd01ec1",
   "metadata": {},
   "outputs": [],
   "source": [
    "import pandas as pd\n",
    "import matplotlib.pyplot as plt"
   ]
  },
  {
   "cell_type": "code",
   "execution_count": 22,
   "id": "7369bccb",
   "metadata": {},
   "outputs": [],
   "source": [
    "data = pd.read_csv(\"data/nrg_cb_gasm_linear.csv.gz\")"
   ]
  },
  {
   "cell_type": "code",
   "execution_count": 23,
   "id": "1dc6afc0",
   "metadata": {},
   "outputs": [
    {
     "data": {
      "text/html": [
       "<div>\n",
       "<style scoped>\n",
       "    .dataframe tbody tr th:only-of-type {\n",
       "        vertical-align: middle;\n",
       "    }\n",
       "\n",
       "    .dataframe tbody tr th {\n",
       "        vertical-align: top;\n",
       "    }\n",
       "\n",
       "    .dataframe thead th {\n",
       "        text-align: right;\n",
       "    }\n",
       "</style>\n",
       "<table border=\"1\" class=\"dataframe\">\n",
       "  <thead>\n",
       "    <tr style=\"text-align: right;\">\n",
       "      <th></th>\n",
       "      <th>DATAFLOW</th>\n",
       "      <th>LAST UPDATE</th>\n",
       "      <th>freq</th>\n",
       "      <th>nrg_bal</th>\n",
       "      <th>siec</th>\n",
       "      <th>unit</th>\n",
       "      <th>geo</th>\n",
       "      <th>TIME_PERIOD</th>\n",
       "      <th>OBS_VALUE</th>\n",
       "      <th>OBS_FLAG</th>\n",
       "    </tr>\n",
       "  </thead>\n",
       "  <tbody>\n",
       "    <tr>\n",
       "      <th>0</th>\n",
       "      <td>ESTAT:NRG_CB_GASM(1.0)</td>\n",
       "      <td>30/08/23 23:00:00</td>\n",
       "      <td>M</td>\n",
       "      <td>DL</td>\n",
       "      <td>G3000</td>\n",
       "      <td>MIO_M3</td>\n",
       "      <td>AL</td>\n",
       "      <td>2018-01</td>\n",
       "      <td>0.0</td>\n",
       "      <td>NaN</td>\n",
       "    </tr>\n",
       "    <tr>\n",
       "      <th>1</th>\n",
       "      <td>ESTAT:NRG_CB_GASM(1.0)</td>\n",
       "      <td>30/08/23 23:00:00</td>\n",
       "      <td>M</td>\n",
       "      <td>DL</td>\n",
       "      <td>G3000</td>\n",
       "      <td>MIO_M3</td>\n",
       "      <td>AL</td>\n",
       "      <td>2018-02</td>\n",
       "      <td>0.0</td>\n",
       "      <td>NaN</td>\n",
       "    </tr>\n",
       "    <tr>\n",
       "      <th>2</th>\n",
       "      <td>ESTAT:NRG_CB_GASM(1.0)</td>\n",
       "      <td>30/08/23 23:00:00</td>\n",
       "      <td>M</td>\n",
       "      <td>DL</td>\n",
       "      <td>G3000</td>\n",
       "      <td>MIO_M3</td>\n",
       "      <td>AL</td>\n",
       "      <td>2018-03</td>\n",
       "      <td>0.0</td>\n",
       "      <td>NaN</td>\n",
       "    </tr>\n",
       "    <tr>\n",
       "      <th>3</th>\n",
       "      <td>ESTAT:NRG_CB_GASM(1.0)</td>\n",
       "      <td>30/08/23 23:00:00</td>\n",
       "      <td>M</td>\n",
       "      <td>DL</td>\n",
       "      <td>G3000</td>\n",
       "      <td>MIO_M3</td>\n",
       "      <td>AL</td>\n",
       "      <td>2018-04</td>\n",
       "      <td>0.0</td>\n",
       "      <td>NaN</td>\n",
       "    </tr>\n",
       "    <tr>\n",
       "      <th>4</th>\n",
       "      <td>ESTAT:NRG_CB_GASM(1.0)</td>\n",
       "      <td>30/08/23 23:00:00</td>\n",
       "      <td>M</td>\n",
       "      <td>DL</td>\n",
       "      <td>G3000</td>\n",
       "      <td>MIO_M3</td>\n",
       "      <td>AL</td>\n",
       "      <td>2018-05</td>\n",
       "      <td>0.0</td>\n",
       "      <td>NaN</td>\n",
       "    </tr>\n",
       "    <tr>\n",
       "      <th>...</th>\n",
       "      <td>...</td>\n",
       "      <td>...</td>\n",
       "      <td>...</td>\n",
       "      <td>...</td>\n",
       "      <td>...</td>\n",
       "      <td>...</td>\n",
       "      <td>...</td>\n",
       "      <td>...</td>\n",
       "      <td>...</td>\n",
       "      <td>...</td>\n",
       "    </tr>\n",
       "    <tr>\n",
       "      <th>89533</th>\n",
       "      <td>ESTAT:NRG_CB_GASM(1.0)</td>\n",
       "      <td>30/08/23 23:00:00</td>\n",
       "      <td>M</td>\n",
       "      <td>VENT</td>\n",
       "      <td>G3000</td>\n",
       "      <td>TJ_GCV</td>\n",
       "      <td>XK</td>\n",
       "      <td>2022-10</td>\n",
       "      <td>0.0</td>\n",
       "      <td>NaN</td>\n",
       "    </tr>\n",
       "    <tr>\n",
       "      <th>89534</th>\n",
       "      <td>ESTAT:NRG_CB_GASM(1.0)</td>\n",
       "      <td>30/08/23 23:00:00</td>\n",
       "      <td>M</td>\n",
       "      <td>VENT</td>\n",
       "      <td>G3000</td>\n",
       "      <td>TJ_GCV</td>\n",
       "      <td>XK</td>\n",
       "      <td>2022-11</td>\n",
       "      <td>0.0</td>\n",
       "      <td>NaN</td>\n",
       "    </tr>\n",
       "    <tr>\n",
       "      <th>89535</th>\n",
       "      <td>ESTAT:NRG_CB_GASM(1.0)</td>\n",
       "      <td>30/08/23 23:00:00</td>\n",
       "      <td>M</td>\n",
       "      <td>VENT</td>\n",
       "      <td>G3000</td>\n",
       "      <td>TJ_GCV</td>\n",
       "      <td>XK</td>\n",
       "      <td>2022-12</td>\n",
       "      <td>0.0</td>\n",
       "      <td>NaN</td>\n",
       "    </tr>\n",
       "    <tr>\n",
       "      <th>89536</th>\n",
       "      <td>ESTAT:NRG_CB_GASM(1.0)</td>\n",
       "      <td>30/08/23 23:00:00</td>\n",
       "      <td>M</td>\n",
       "      <td>VENT</td>\n",
       "      <td>G3000</td>\n",
       "      <td>TJ_GCV</td>\n",
       "      <td>XK</td>\n",
       "      <td>2023-02</td>\n",
       "      <td>0.0</td>\n",
       "      <td>NaN</td>\n",
       "    </tr>\n",
       "    <tr>\n",
       "      <th>89537</th>\n",
       "      <td>ESTAT:NRG_CB_GASM(1.0)</td>\n",
       "      <td>30/08/23 23:00:00</td>\n",
       "      <td>M</td>\n",
       "      <td>VENT</td>\n",
       "      <td>G3000</td>\n",
       "      <td>TJ_GCV</td>\n",
       "      <td>XK</td>\n",
       "      <td>2023-03</td>\n",
       "      <td>0.0</td>\n",
       "      <td>NaN</td>\n",
       "    </tr>\n",
       "  </tbody>\n",
       "</table>\n",
       "<p>89538 rows × 10 columns</p>\n",
       "</div>"
      ],
      "text/plain": [
       "                     DATAFLOW        LAST UPDATE freq nrg_bal   siec    unit  \\\n",
       "0      ESTAT:NRG_CB_GASM(1.0)  30/08/23 23:00:00    M      DL  G3000  MIO_M3   \n",
       "1      ESTAT:NRG_CB_GASM(1.0)  30/08/23 23:00:00    M      DL  G3000  MIO_M3   \n",
       "2      ESTAT:NRG_CB_GASM(1.0)  30/08/23 23:00:00    M      DL  G3000  MIO_M3   \n",
       "3      ESTAT:NRG_CB_GASM(1.0)  30/08/23 23:00:00    M      DL  G3000  MIO_M3   \n",
       "4      ESTAT:NRG_CB_GASM(1.0)  30/08/23 23:00:00    M      DL  G3000  MIO_M3   \n",
       "...                       ...                ...  ...     ...    ...     ...   \n",
       "89533  ESTAT:NRG_CB_GASM(1.0)  30/08/23 23:00:00    M    VENT  G3000  TJ_GCV   \n",
       "89534  ESTAT:NRG_CB_GASM(1.0)  30/08/23 23:00:00    M    VENT  G3000  TJ_GCV   \n",
       "89535  ESTAT:NRG_CB_GASM(1.0)  30/08/23 23:00:00    M    VENT  G3000  TJ_GCV   \n",
       "89536  ESTAT:NRG_CB_GASM(1.0)  30/08/23 23:00:00    M    VENT  G3000  TJ_GCV   \n",
       "89537  ESTAT:NRG_CB_GASM(1.0)  30/08/23 23:00:00    M    VENT  G3000  TJ_GCV   \n",
       "\n",
       "      geo TIME_PERIOD  OBS_VALUE OBS_FLAG  \n",
       "0      AL     2018-01        0.0      NaN  \n",
       "1      AL     2018-02        0.0      NaN  \n",
       "2      AL     2018-03        0.0      NaN  \n",
       "3      AL     2018-04        0.0      NaN  \n",
       "4      AL     2018-05        0.0      NaN  \n",
       "...    ..         ...        ...      ...  \n",
       "89533  XK     2022-10        0.0      NaN  \n",
       "89534  XK     2022-11        0.0      NaN  \n",
       "89535  XK     2022-12        0.0      NaN  \n",
       "89536  XK     2023-02        0.0      NaN  \n",
       "89537  XK     2023-03        0.0      NaN  \n",
       "\n",
       "[89538 rows x 10 columns]"
      ]
     },
     "execution_count": 23,
     "metadata": {},
     "output_type": "execute_result"
    }
   ],
   "source": [
    "data"
   ]
  },
  {
   "cell_type": "code",
   "execution_count": 24,
   "id": "3dd2f413",
   "metadata": {},
   "outputs": [],
   "source": [
    "gbc = data.groupby(\"geo\")"
   ]
  },
  {
   "cell_type": "code",
   "execution_count": 25,
   "id": "ca06db07",
   "metadata": {
    "scrolled": true
   },
   "outputs": [
    {
     "name": "stdout",
     "output_type": "stream",
     "text": [
      "AL 1282\n",
      "AT 2688\n",
      "BE 3012\n",
      "BG 2642\n",
      "CY 2844\n",
      "CZ 2622\n",
      "DE 2584\n",
      "DK 2735\n",
      "EE 2513\n",
      "EL 2605\n",
      "ES 2702\n",
      "EU27_2020 2276\n",
      "FI 2449\n",
      "FR 2674\n",
      "GE 1224\n",
      "HR 2568\n",
      "HU 2654\n",
      "IE 2524\n",
      "IS 444\n",
      "IT 2653\n",
      "LT 2558\n",
      "LU 2499\n",
      "LV 2590\n",
      "MD 894\n",
      "ME 468\n",
      "MK 2114\n",
      "MT 2651\n",
      "NL 2689\n",
      "NO 2575\n",
      "PL 2670\n",
      "PT 2661\n",
      "RO 2524\n",
      "RS 1530\n",
      "SE 2532\n",
      "SI 2613\n",
      "SK 3066\n",
      "TR 2557\n",
      "UA 454\n",
      "UK 1834\n",
      "XK 364\n"
     ]
    }
   ],
   "source": [
    "for i, k in gbc: \n",
    "    print(i, len(k))"
   ]
  },
  {
   "cell_type": "code",
   "execution_count": 26,
   "id": "a9b79486",
   "metadata": {},
   "outputs": [],
   "source": [
    "at = gbc.get_group(\"AT\")"
   ]
  },
  {
   "cell_type": "code",
   "execution_count": 29,
   "id": "7f2f10ec",
   "metadata": {},
   "outputs": [
    {
     "data": {
      "text/html": [
       "<div>\n",
       "<style scoped>\n",
       "    .dataframe tbody tr th:only-of-type {\n",
       "        vertical-align: middle;\n",
       "    }\n",
       "\n",
       "    .dataframe tbody tr th {\n",
       "        vertical-align: top;\n",
       "    }\n",
       "\n",
       "    .dataframe thead th {\n",
       "        text-align: right;\n",
       "    }\n",
       "</style>\n",
       "<table border=\"1\" class=\"dataframe\">\n",
       "  <thead>\n",
       "    <tr style=\"text-align: right;\">\n",
       "      <th></th>\n",
       "      <th>DATAFLOW</th>\n",
       "      <th>LAST UPDATE</th>\n",
       "      <th>freq</th>\n",
       "      <th>nrg_bal</th>\n",
       "      <th>siec</th>\n",
       "      <th>unit</th>\n",
       "      <th>geo</th>\n",
       "      <th>TIME_PERIOD</th>\n",
       "      <th>OBS_VALUE</th>\n",
       "      <th>OBS_FLAG</th>\n",
       "    </tr>\n",
       "  </thead>\n",
       "  <tbody>\n",
       "    <tr>\n",
       "      <th>62</th>\n",
       "      <td>ESTAT:NRG_CB_GASM(1.0)</td>\n",
       "      <td>30/08/23 23:00:00</td>\n",
       "      <td>M</td>\n",
       "      <td>DL</td>\n",
       "      <td>G3000</td>\n",
       "      <td>MIO_M3</td>\n",
       "      <td>AT</td>\n",
       "      <td>2014-01</td>\n",
       "      <td>29.0</td>\n",
       "      <td>NaN</td>\n",
       "    </tr>\n",
       "    <tr>\n",
       "      <th>63</th>\n",
       "      <td>ESTAT:NRG_CB_GASM(1.0)</td>\n",
       "      <td>30/08/23 23:00:00</td>\n",
       "      <td>M</td>\n",
       "      <td>DL</td>\n",
       "      <td>G3000</td>\n",
       "      <td>MIO_M3</td>\n",
       "      <td>AT</td>\n",
       "      <td>2014-02</td>\n",
       "      <td>28.0</td>\n",
       "      <td>NaN</td>\n",
       "    </tr>\n",
       "  </tbody>\n",
       "</table>\n",
       "</div>"
      ],
      "text/plain": [
       "                  DATAFLOW        LAST UPDATE freq nrg_bal   siec    unit geo  \\\n",
       "62  ESTAT:NRG_CB_GASM(1.0)  30/08/23 23:00:00    M      DL  G3000  MIO_M3  AT   \n",
       "63  ESTAT:NRG_CB_GASM(1.0)  30/08/23 23:00:00    M      DL  G3000  MIO_M3  AT   \n",
       "\n",
       "   TIME_PERIOD  OBS_VALUE OBS_FLAG  \n",
       "62     2014-01       29.0      NaN  \n",
       "63     2014-02       28.0      NaN  "
      ]
     },
     "execution_count": 29,
     "metadata": {},
     "output_type": "execute_result"
    }
   ],
   "source": [
    "at.head(2)"
   ]
  },
  {
   "cell_type": "code",
   "execution_count": 28,
   "id": "27d6feaf",
   "metadata": {},
   "outputs": [
    {
     "data": {
      "image/png": "[encoded data removed]",
      "text/plain": [
       "<Figure size 640x480 with 1 Axes>"
      ]
     },
     "metadata": {},
     "output_type": "display_data"
    }
   ],
   "source": [
    "plt.hist(at.OBS_VALUE)\n",
    "plt.show()"
   ]
  },
  {
   "cell_type": "code",
   "execution_count": 30,
   "id": "076c17ee",
   "metadata": {},
   "outputs": [
    {
     "data": {
      "text/plain": [
       "nrg_bal\n",
       "DL            302\n",
       "EXP           302\n",
       "IC_CAL_MG     302\n",
       "IMP           302\n",
       "IPRD          302\n",
       "STK_CHG_MG    302\n",
       "TI_EHG_MAP    266\n",
       "IC_OBS        242\n",
       "STATDIFF       86\n",
       "TOS            86\n",
       "FLARE          62\n",
       "INTMARB        62\n",
       "VENT           62\n",
       "STK_CHG_CG      6\n",
       "FC_IND          2\n",
       "FC_OTH          2\n",
       "Name: count, dtype: int64"
      ]
     },
     "execution_count": 30,
     "metadata": {},
     "output_type": "execute_result"
    }
   ],
   "source": [
    "at.nrg_bal.value_counts()"
   ]
  },
  {
   "cell_type": "code",
   "execution_count": 31,
   "id": "2174c02e",
   "metadata": {},
   "outputs": [
    {
     "data": {
      "text/plain": [
       "[]"
      ]
     },
     "execution_count": 31,
     "metadata": {},
     "output_type": "execute_result"
    },
    {
     "data": {
      "image/png": "[encoded data removed]",
      "text/plain": [
       "<Figure size 640x480 with 1 Axes>"
      ]
     },
     "metadata": {},
     "output_type": "display_data"
    }
   ],
   "source": [
    "plt.plot()"
   ]
  },
  {
   "cell_type": "code",
   "execution_count": null,
   "id": "5db65296",
   "metadata": {},
   "outputs": [],
   "source": []
  },
  {
   "cell_type": "code",
   "execution_count": null,
   "id": "20b40914",
   "metadata": {},
   "outputs": [],
   "source": []
  },
  {
   "cell_type": "code",
   "execution_count": null,
   "id": "68231a1a",
   "metadata": {},
   "outputs": [],
   "source": []
  }
 ],
 "metadata": {
  "kernelspec": {
   "display_name": "Python 3 (ipykernel)",
   "language": "python",
   "name": "python3"
  },
  "language_info": {
   "codemirror_mode": {
    "name": "ipython",
    "version": 3
   },
   "file_extension": ".py",
   "mimetype": "text/x-python",
   "name": "python",
   "nbconvert_exporter": "python",
   "pygments_lexer": "ipython3",
   "version": "3.11.4"
  }
 },
 "nbformat": 4,
 "nbformat_minor": 5
}
